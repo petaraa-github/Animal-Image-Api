{
 "cells": [
  {
   "cell_type": "code",
   "execution_count": 10,
   "id": "alternative-thanksgiving",
   "metadata": {
    "execution": {
     "iopub.execute_input": "2021-04-29T08:12:39.602738Z",
     "iopub.status.busy": "2021-04-29T08:12:39.602193Z",
     "iopub.status.idle": "2021-04-29T08:12:48.797625Z",
     "shell.execute_reply": "2021-04-29T08:12:48.796960Z"
    },
    "papermill": {
     "duration": 9.215003,
     "end_time": "2021-04-29T08:12:48.797786",
     "exception": false,
     "start_time": "2021-04-29T08:12:39.582783",
     "status": "completed"
    },
    "tags": []
   },
   "outputs": [],
   "source": [
    "import numpy as np\n",
    "import pandas as pd\n",
    "import os\n",
    "import cv2\n",
    "import time\n",
    "import matplotlib.pyplot as plt\n",
    "\n",
    "import tensorflow as tf\n",
    "from keras.utils import to_categorical\n",
    "# from keras.preprocessing import load_img, img_to_array"
   ]
  },
  {
   "cell_type": "code",
   "execution_count": 11,
   "id": "descending-economics",
   "metadata": {
    "execution": {
     "iopub.execute_input": "2021-04-29T08:12:48.830583Z",
     "iopub.status.busy": "2021-04-29T08:12:48.830080Z",
     "iopub.status.idle": "2021-04-29T08:13:30.734977Z",
     "shell.execute_reply": "2021-04-29T08:13:30.735373Z"
    },
    "papermill": {
     "duration": 41.923963,
     "end_time": "2021-04-29T08:13:30.735513",
     "exception": false,
     "start_time": "2021-04-29T08:12:48.811550",
     "status": "completed"
    },
    "tags": []
   },
   "outputs": [
    {
     "name": "stdout",
     "output_type": "stream",
     "text": [
      "[]\n"
     ]
    }
   ],
   "source": [
    "Name0=[]\n",
    "for dirname, _, filenames in os.walk('../input/animals10/raw-img'):\n",
    "    Name0+=[dirname]\n",
    "\n",
    "Name1=[]\n",
    "\n",
    "for item in Name0:\n",
    "    Name1+=[item[27:]]\n",
    "\n",
    "Name2=[]\n",
    "for item in Name1:\n",
    "    if (item!=''):\n",
    "        Name2+=[item]\n",
    "                \n",
    "Name3=sorted(Name2)\n",
    "print(Name3)"
   ]
  },
  {
   "cell_type": "code",
   "execution_count": 13,
   "id": "determined-opening",
   "metadata": {
    "execution": {
     "iopub.execute_input": "2021-04-29T08:13:30.768415Z",
     "iopub.status.busy": "2021-04-29T08:13:30.767804Z",
     "iopub.status.idle": "2021-04-29T08:13:30.786329Z",
     "shell.execute_reply": "2021-04-29T08:13:30.787256Z"
    },
    "papermill": {
     "duration": 0.038055,
     "end_time": "2021-04-29T08:13:30.787511",
     "exception": false,
     "start_time": "2021-04-29T08:13:30.749456",
     "status": "completed"
    },
    "tags": []
   },
   "outputs": [
    {
     "ename": "FileNotFoundError",
     "evalue": "[Errno 2] No such file or directory: 'model/coco.names'",
     "output_type": "error",
     "traceback": [
      "\u001b[1;31m---------------------------------------------------------------------------\u001b[0m",
      "\u001b[1;31mFileNotFoundError\u001b[0m                         Traceback (most recent call last)",
      "Cell \u001b[1;32mIn[13], line 1\u001b[0m\n\u001b[1;32m----> 1\u001b[0m labels \u001b[39m=\u001b[39m \u001b[39mopen\u001b[39;49m(\u001b[39m'\u001b[39;49m\u001b[39mmodel/coco.names\u001b[39;49m\u001b[39m'\u001b[39;49m)\u001b[39m.\u001b[39mread()\u001b[39m.\u001b[39mstrip()\u001b[39m.\u001b[39msplit(\u001b[39m'\u001b[39m\u001b[39m\\n\u001b[39;00m\u001b[39m'\u001b[39m)\n\u001b[0;32m      2\u001b[0m \u001b[39mprint\u001b[39m(labels)\n",
      "File \u001b[1;32md:\\Work\\Petara\\Animal-Image-Api\\env\\lib\\site-packages\\IPython\\core\\interactiveshell.py:282\u001b[0m, in \u001b[0;36m_modified_open\u001b[1;34m(file, *args, **kwargs)\u001b[0m\n\u001b[0;32m    275\u001b[0m \u001b[39mif\u001b[39;00m file \u001b[39min\u001b[39;00m {\u001b[39m0\u001b[39m, \u001b[39m1\u001b[39m, \u001b[39m2\u001b[39m}:\n\u001b[0;32m    276\u001b[0m     \u001b[39mraise\u001b[39;00m \u001b[39mValueError\u001b[39;00m(\n\u001b[0;32m    277\u001b[0m         \u001b[39mf\u001b[39m\u001b[39m\"\u001b[39m\u001b[39mIPython won\u001b[39m\u001b[39m'\u001b[39m\u001b[39mt let you open fd=\u001b[39m\u001b[39m{\u001b[39;00mfile\u001b[39m}\u001b[39;00m\u001b[39m by default \u001b[39m\u001b[39m\"\u001b[39m\n\u001b[0;32m    278\u001b[0m         \u001b[39m\"\u001b[39m\u001b[39mas it is likely to crash IPython. If you know what you are doing, \u001b[39m\u001b[39m\"\u001b[39m\n\u001b[0;32m    279\u001b[0m         \u001b[39m\"\u001b[39m\u001b[39myou can use builtins\u001b[39m\u001b[39m'\u001b[39m\u001b[39m open.\u001b[39m\u001b[39m\"\u001b[39m\n\u001b[0;32m    280\u001b[0m     )\n\u001b[1;32m--> 282\u001b[0m \u001b[39mreturn\u001b[39;00m io_open(file, \u001b[39m*\u001b[39margs, \u001b[39m*\u001b[39m\u001b[39m*\u001b[39mkwargs)\n",
      "\u001b[1;31mFileNotFoundError\u001b[0m: [Errno 2] No such file or directory: 'model/coco.names'"
     ]
    }
   ],
   "source": [
    "labels = open('./model/coco.names').read().strip().split('\\n')\n",
    "print(labels)"
   ]
  },
  {
   "cell_type": "code",
   "execution_count": null,
   "id": "shared-butter",
   "metadata": {
    "execution": {
     "iopub.execute_input": "2021-04-29T08:13:30.835842Z",
     "iopub.status.busy": "2021-04-29T08:13:30.832948Z",
     "iopub.status.idle": "2021-04-29T08:13:30.844258Z",
     "shell.execute_reply": "2021-04-29T08:13:30.843690Z"
    },
    "papermill": {
     "duration": 0.0352,
     "end_time": "2021-04-29T08:13:30.844376",
     "exception": false,
     "start_time": "2021-04-29T08:13:30.809176",
     "status": "completed"
    },
    "tags": []
   },
   "outputs": [],
   "source": [
    "Name3E=['dog','horse','elephant','butterfly','hen','cat','cow','sheep','spider','squirrel']\n",
    "\n",
    "Name3Ex=[]\n",
    "Name3Eo=[]\n",
    "for item in Name3E:\n",
    "    if item not in labels:\n",
    "        Name3Ex+=[item]\n",
    "    elif item in labels:\n",
    "        Name3Eo+=[item]\n",
    "        \n",
    "print(Name3Ex)\n",
    "print(Name3Eo)"
   ]
  },
  {
   "cell_type": "code",
   "execution_count": null,
   "id": "cooked-moderator",
   "metadata": {
    "execution": {
     "iopub.execute_input": "2021-04-29T08:13:30.880141Z",
     "iopub.status.busy": "2021-04-29T08:13:30.879521Z",
     "iopub.status.idle": "2021-04-29T08:13:30.885472Z",
     "shell.execute_reply": "2021-04-29T08:13:30.884992Z"
    },
    "papermill": {
     "duration": 0.0264,
     "end_time": "2021-04-29T08:13:30.885595",
     "exception": false,
     "start_time": "2021-04-29T08:13:30.859195",
     "status": "completed"
    },
    "tags": []
   },
   "outputs": [],
   "source": [
    "weights_path = './model/yolov3.weights'\n",
    "configuration_path = './model/yolov3.cfg'\n",
    "\n",
    "probability_minimum = 0.5\n",
    "threshold = 0.3"
   ]
  },
  {
   "cell_type": "code",
   "execution_count": null,
   "id": "aerial-parish",
   "metadata": {
    "execution": {
     "iopub.execute_input": "2021-04-29T08:13:30.931084Z",
     "iopub.status.busy": "2021-04-29T08:13:30.930566Z",
     "iopub.status.idle": "2021-04-29T08:13:35.124882Z",
     "shell.execute_reply": "2021-04-29T08:13:35.125288Z"
    },
    "papermill": {
     "duration": 4.225054,
     "end_time": "2021-04-29T08:13:35.125456",
     "exception": false,
     "start_time": "2021-04-29T08:13:30.900402",
     "status": "completed"
    },
    "tags": []
   },
   "outputs": [],
   "source": [
    "network = cv2.dnn.readNetFromDarknet(configuration_path, weights_path)\n",
    "layers_names_all = network.getLayerNames()\n",
    "layers_names_output = [layers_names_all[i[0]-1] for i in network.getUnconnectedOutLayers()]"
   ]
  },
  {
   "cell_type": "code",
   "execution_count": null,
   "id": "missing-candle",
   "metadata": {
    "_cell_guid": "79c7e3d0-c299-4dcb-8224-4455121ee9b0",
    "_uuid": "d629ff2d2480ee46fbb7e2d37f6b5fab8052498a",
    "execution": {
     "iopub.execute_input": "2021-04-29T08:13:35.163314Z",
     "iopub.status.busy": "2021-04-29T08:13:35.162536Z",
     "iopub.status.idle": "2021-04-29T08:13:35.429010Z",
     "shell.execute_reply": "2021-04-29T08:13:35.428554Z"
    },
    "papermill": {
     "duration": 0.288624,
     "end_time": "2021-04-29T08:13:35.429143",
     "exception": false,
     "start_time": "2021-04-29T08:13:35.140519",
     "status": "completed"
    },
    "tags": []
   },
   "outputs": [],
   "source": [
    "image_input = cv2.imread('../input/animals10/raw-img/pecora/OIP--5EOVD9HIiHEqNd8PZjFogHaII.jpeg')\n",
    "\n",
    "%matplotlib inline\n",
    "plt.rcParams['figure.figsize'] = (5.0,5.0)\n",
    "plt.imshow(cv2.cvtColor(image_input, cv2.COLOR_BGR2RGB))\n",
    "plt.show()"
   ]
  },
  {
   "cell_type": "code",
   "execution_count": null,
   "id": "adaptive-click",
   "metadata": {
    "execution": {
     "iopub.execute_input": "2021-04-29T08:13:35.474547Z",
     "iopub.status.busy": "2021-04-29T08:13:35.473850Z",
     "iopub.status.idle": "2021-04-29T08:13:36.340745Z",
     "shell.execute_reply": "2021-04-29T08:13:36.340282Z"
    },
    "papermill": {
     "duration": 0.892589,
     "end_time": "2021-04-29T08:13:36.340888",
     "exception": false,
     "start_time": "2021-04-29T08:13:35.448299",
     "status": "completed"
    },
    "tags": []
   },
   "outputs": [],
   "source": [
    "blob = cv2.dnn.blobFromImage(image_input, 1/255.0, (416,416), swapRB=True, crop=False)\n",
    "blob_to_show = blob[0,:,:,:].transpose(1,2,0)\n",
    "network.setInput(blob)\n",
    "output_from_network = network.forward(layers_names_output)\n",
    "np.random.seed(42)\n",
    "colours = np.random.randint(0, 255, size=(len(labels), 3), dtype='uint8')"
   ]
  },
  {
   "cell_type": "code",
   "execution_count": null,
   "id": "included-familiar",
   "metadata": {
    "execution": {
     "iopub.execute_input": "2021-04-29T08:13:36.387036Z",
     "iopub.status.busy": "2021-04-29T08:13:36.386459Z",
     "iopub.status.idle": "2021-04-29T08:13:36.443312Z",
     "shell.execute_reply": "2021-04-29T08:13:36.443712Z"
    },
    "papermill": {
     "duration": 0.084123,
     "end_time": "2021-04-29T08:13:36.443896",
     "exception": false,
     "start_time": "2021-04-29T08:13:36.359773",
     "status": "completed"
    },
    "tags": []
   },
   "outputs": [],
   "source": [
    "bounding_boxes = []\n",
    "confidences = []\n",
    "class_numbers = []\n",
    "h,w = image_input.shape[:2]\n",
    "\n",
    "for result in output_from_network:\n",
    "    for detection in result:\n",
    "        scores = detection[5:]\n",
    "        class_current = np.argmax(scores)\n",
    "        confidence_current = scores[class_current]\n",
    "        if confidence_current > probability_minimum:\n",
    "            box_current = detection[0:4] * np.array([w, h, w, h])\n",
    "            x_center, y_center, box_width, box_height = box_current.astype('int')\n",
    "            x_min = int(x_center-(box_width/2))\n",
    "            y_min = int(y_center-(box_height/2))\n",
    "            bounding_boxes.append([x_min, y_min, int(box_width), int(box_height)])\n",
    "            confidences.append(float(confidence_current))\n",
    "            class_numbers.append(class_current)\n",
    "\n",
    "print(class_numbers[-1])                  \n",
    "print(labels[class_numbers[-1]])            "
   ]
  },
  {
   "cell_type": "code",
   "execution_count": null,
   "id": "intimate-quest",
   "metadata": {
    "execution": {
     "iopub.execute_input": "2021-04-29T08:13:36.489654Z",
     "iopub.status.busy": "2021-04-29T08:13:36.489103Z",
     "iopub.status.idle": "2021-04-29T08:13:36.497844Z",
     "shell.execute_reply": "2021-04-29T08:13:36.498882Z"
    },
    "papermill": {
     "duration": 0.035801,
     "end_time": "2021-04-29T08:13:36.499168",
     "exception": false,
     "start_time": "2021-04-29T08:13:36.463367",
     "status": "completed"
    },
    "tags": []
   },
   "outputs": [],
   "source": [
    "results = cv2.dnn.NMSBoxes(bounding_boxes, confidences, probability_minimum, threshold)\n",
    "\n",
    "if len(results) > 0:\n",
    "    for i in results.flatten():\n",
    "        x_min, y_min = bounding_boxes[i][0], bounding_boxes[i][1]\n",
    "        box_width, box_height = bounding_boxes[i][2], bounding_boxes[i][3]\n",
    "        colour_box_current = [int(j) for j in colours[class_numbers[i]]]\n",
    "        cv2.rectangle(image_input, (x_min, y_min), (x_min + box_width, y_min + box_height),\n",
    "                      colour_box_current, 5)\n",
    "        text_box_current = '{}: {:.4f}'.format(labels[int(class_numbers[i])], confidences[i])\n",
    "        cv2.putText(image_input, text_box_current, (x_min, y_min - 7), cv2.FONT_HERSHEY_SIMPLEX,\n",
    "                    1.5, colour_box_current, 5)"
   ]
  },
  {
   "cell_type": "code",
   "execution_count": null,
   "id": "intelligent-kazakhstan",
   "metadata": {
    "execution": {
     "iopub.execute_input": "2021-04-29T08:13:36.541331Z",
     "iopub.status.busy": "2021-04-29T08:13:36.540812Z",
     "iopub.status.idle": "2021-04-29T08:13:36.697614Z",
     "shell.execute_reply": "2021-04-29T08:13:36.697163Z"
    },
    "papermill": {
     "duration": 0.178768,
     "end_time": "2021-04-29T08:13:36.697753",
     "exception": false,
     "start_time": "2021-04-29T08:13:36.518985",
     "status": "completed"
    },
    "tags": []
   },
   "outputs": [],
   "source": [
    "%matplotlib inline\n",
    "plt.rcParams['figure.figsize'] = (5.0,5.0)\n",
    "plt.imshow(cv2.cvtColor(image_input, cv2.COLOR_BGR2RGB))\n",
    "plt.show()"
   ]
  },
  {
   "cell_type": "code",
   "execution_count": null,
   "id": "periodic-preserve",
   "metadata": {
    "execution": {
     "iopub.execute_input": "2021-04-29T08:13:36.758585Z",
     "iopub.status.busy": "2021-04-29T08:13:36.758033Z",
     "iopub.status.idle": "2021-04-29T08:13:36.760929Z",
     "shell.execute_reply": "2021-04-29T08:13:36.761336Z"
    },
    "papermill": {
     "duration": 0.040648,
     "end_time": "2021-04-29T08:13:36.761501",
     "exception": false,
     "start_time": "2021-04-29T08:13:36.720853",
     "status": "completed"
    },
    "tags": []
   },
   "outputs": [],
   "source": [
    "def ImagePath(path):\n",
    "    \n",
    "    bounding_boxes = []\n",
    "    confidences = []\n",
    "    class_numbers = []\n",
    "    \n",
    "    image_input = cv2.imread(path)\n",
    "    blob = cv2.dnn.blobFromImage(image_input, 1/255.0, (416,416), swapRB=True, crop=False)\n",
    "    blob_to_show = blob[0,:,:,:].transpose(1,2,0)\n",
    "    network.setInput(blob)\n",
    "    output_from_network = network.forward(layers_names_output)\n",
    "    h,w = image_input.shape[:2]\n",
    "\n",
    "    for result in output_from_network:\n",
    "        for detection in result:\n",
    "            scores = detection[5:]\n",
    "            class_current = np.argmax(scores)\n",
    "            confidence_current = scores[class_current]\n",
    "            if confidence_current > probability_minimum:\n",
    "                box_current = detection[0:4] * np.array([w, h, w, h])\n",
    "                x_center, y_center, box_width, box_height = box_current.astype('int')\n",
    "                x_min = int(x_center-(box_width/2))\n",
    "                y_min = int(y_center-(box_height/2))\n",
    "                bounding_boxes.append([x_min, y_min, int(box_width), int(box_height)])\n",
    "                confidences.append(float(confidence_current))\n",
    "                class_numbers.append(class_current)\n",
    "\n",
    "    %matplotlib inline\n",
    "    plt.rcParams['figure.figsize'] = (5.0,5.0)\n",
    "    plt.imshow(cv2.cvtColor(image_input, cv2.COLOR_BGR2RGB))\n",
    "    plt.show()\n",
    "    \n",
    "    labels2=[]\n",
    "    for item in sorted(set(class_numbers)):\n",
    "        labels2+=[labels[item]]\n",
    "        \n",
    "    return labels2"
   ]
  },
  {
   "cell_type": "code",
   "execution_count": null,
   "id": "surprising-blink",
   "metadata": {
    "execution": {
     "iopub.execute_input": "2021-04-29T08:13:36.811695Z",
     "iopub.status.busy": "2021-04-29T08:13:36.811002Z",
     "iopub.status.idle": "2021-04-29T08:13:37.615768Z",
     "shell.execute_reply": "2021-04-29T08:13:37.615222Z"
    },
    "papermill": {
     "duration": 0.830939,
     "end_time": "2021-04-29T08:13:37.615907",
     "exception": false,
     "start_time": "2021-04-29T08:13:36.784968",
     "status": "completed"
    },
    "tags": []
   },
   "outputs": [],
   "source": [
    "ImagePath('../input/animals10/raw-img/cane/OIP--2z_zAuTMzgYM_KynUl9CQHaE7.jpeg')"
   ]
  },
  {
   "cell_type": "code",
   "execution_count": null,
   "id": "honey-concrete",
   "metadata": {
    "execution": {
     "iopub.execute_input": "2021-04-29T08:13:37.670152Z",
     "iopub.status.busy": "2021-04-29T08:13:37.669583Z",
     "iopub.status.idle": "2021-04-29T08:13:38.492642Z",
     "shell.execute_reply": "2021-04-29T08:13:38.492121Z"
    },
    "papermill": {
     "duration": 0.852623,
     "end_time": "2021-04-29T08:13:38.492780",
     "exception": false,
     "start_time": "2021-04-29T08:13:37.640157",
     "status": "completed"
    },
    "tags": []
   },
   "outputs": [],
   "source": [
    "ImagePath('../input/animals10/raw-img/cavallo/OIP---sK_NCo5VFiDavIY-pUdgHaFB.jpeg')"
   ]
  },
  {
   "cell_type": "code",
   "execution_count": null,
   "id": "legendary-european",
   "metadata": {
    "execution": {
     "iopub.execute_input": "2021-04-29T08:13:38.554002Z",
     "iopub.status.busy": "2021-04-29T08:13:38.553452Z",
     "iopub.status.idle": "2021-04-29T08:13:39.410309Z",
     "shell.execute_reply": "2021-04-29T08:13:39.410854Z"
    },
    "papermill": {
     "duration": 0.890146,
     "end_time": "2021-04-29T08:13:39.411015",
     "exception": false,
     "start_time": "2021-04-29T08:13:38.520869",
     "status": "completed"
    },
    "tags": []
   },
   "outputs": [],
   "source": [
    "ImagePath('../input/animals10/raw-img/elefante/OIP--NEqn4JVnn251xGu7ss4bQHaHa.jpeg')"
   ]
  },
  {
   "cell_type": "code",
   "execution_count": null,
   "id": "frequent-chair",
   "metadata": {
    "execution": {
     "iopub.execute_input": "2021-04-29T08:13:39.476182Z",
     "iopub.status.busy": "2021-04-29T08:13:39.475538Z",
     "iopub.status.idle": "2021-04-29T08:13:40.344718Z",
     "shell.execute_reply": "2021-04-29T08:13:40.345155Z"
    },
    "papermill": {
     "duration": 0.904075,
     "end_time": "2021-04-29T08:13:40.345318",
     "exception": false,
     "start_time": "2021-04-29T08:13:39.441243",
     "status": "completed"
    },
    "tags": []
   },
   "outputs": [],
   "source": [
    "ImagePath('../input/animals10/raw-img/farfalla/OIP--3xxJkezSkNzxrQaxlhv-QHaHa.jpeg')"
   ]
  },
  {
   "cell_type": "code",
   "execution_count": null,
   "id": "digital-brick",
   "metadata": {
    "execution": {
     "iopub.execute_input": "2021-04-29T08:13:40.414844Z",
     "iopub.status.busy": "2021-04-29T08:13:40.414303Z",
     "iopub.status.idle": "2021-04-29T08:13:41.284428Z",
     "shell.execute_reply": "2021-04-29T08:13:41.284938Z"
    },
    "papermill": {
     "duration": 0.9074,
     "end_time": "2021-04-29T08:13:41.285101",
     "exception": false,
     "start_time": "2021-04-29T08:13:40.377701",
     "status": "completed"
    },
    "tags": []
   },
   "outputs": [],
   "source": [
    "ImagePath('../input/animals10/raw-img/gallina/1044.jpeg')"
   ]
  },
  {
   "cell_type": "code",
   "execution_count": null,
   "id": "legendary-links",
   "metadata": {
    "execution": {
     "iopub.execute_input": "2021-04-29T08:13:41.361257Z",
     "iopub.status.busy": "2021-04-29T08:13:41.360703Z",
     "iopub.status.idle": "2021-04-29T08:13:42.124175Z",
     "shell.execute_reply": "2021-04-29T08:13:42.123689Z"
    },
    "papermill": {
     "duration": 0.803915,
     "end_time": "2021-04-29T08:13:42.124299",
     "exception": false,
     "start_time": "2021-04-29T08:13:41.320384",
     "status": "completed"
    },
    "tags": []
   },
   "outputs": [],
   "source": [
    "ImagePath('../input/animals10/raw-img/gatto/1001.jpeg')"
   ]
  },
  {
   "cell_type": "code",
   "execution_count": null,
   "id": "responsible-walker",
   "metadata": {
    "execution": {
     "iopub.execute_input": "2021-04-29T08:13:42.208930Z",
     "iopub.status.busy": "2021-04-29T08:13:42.208042Z",
     "iopub.status.idle": "2021-04-29T08:13:43.014367Z",
     "shell.execute_reply": "2021-04-29T08:13:43.013813Z"
    },
    "papermill": {
     "duration": 0.852264,
     "end_time": "2021-04-29T08:13:43.014506",
     "exception": false,
     "start_time": "2021-04-29T08:13:42.162242",
     "status": "completed"
    },
    "tags": []
   },
   "outputs": [],
   "source": [
    "ImagePath('../input/animals10/raw-img/mucca/OIP--DTVnqj-HKjAEvLxZyOYGQHaFP.jpeg')"
   ]
  },
  {
   "cell_type": "code",
   "execution_count": null,
   "id": "blessed-tonight",
   "metadata": {
    "execution": {
     "iopub.execute_input": "2021-04-29T08:13:43.102415Z",
     "iopub.status.busy": "2021-04-29T08:13:43.101925Z",
     "iopub.status.idle": "2021-04-29T08:13:44.015333Z",
     "shell.execute_reply": "2021-04-29T08:13:44.014854Z"
    },
    "papermill": {
     "duration": 0.958478,
     "end_time": "2021-04-29T08:13:44.015442",
     "exception": false,
     "start_time": "2021-04-29T08:13:43.056964",
     "status": "completed"
    },
    "tags": []
   },
   "outputs": [],
   "source": [
    "ImagePath('../input/animals10/raw-img/pecora/OIP--CqWh6W1NLb76TYL4OCGAAHaFi.jpeg')"
   ]
  },
  {
   "cell_type": "code",
   "execution_count": null,
   "id": "coordinate-trainer",
   "metadata": {
    "execution": {
     "iopub.execute_input": "2021-04-29T08:13:44.111888Z",
     "iopub.status.busy": "2021-04-29T08:13:44.111141Z",
     "iopub.status.idle": "2021-04-29T08:13:44.913283Z",
     "shell.execute_reply": "2021-04-29T08:13:44.912549Z"
    },
    "papermill": {
     "duration": 0.852958,
     "end_time": "2021-04-29T08:13:44.913432",
     "exception": false,
     "start_time": "2021-04-29T08:13:44.060474",
     "status": "completed"
    },
    "tags": []
   },
   "outputs": [],
   "source": [
    "ImagePath('../input/animals10/raw-img/ragno/OIP--Bma656GiSO8H3qmvkDIzwHaE9.jpeg')"
   ]
  },
  {
   "cell_type": "code",
   "execution_count": null,
   "id": "brave-universe",
   "metadata": {
    "execution": {
     "iopub.execute_input": "2021-04-29T08:13:45.048104Z",
     "iopub.status.busy": "2021-04-29T08:13:45.047339Z",
     "iopub.status.idle": "2021-04-29T08:13:45.852427Z",
     "shell.execute_reply": "2021-04-29T08:13:45.851894Z"
    },
    "papermill": {
     "duration": 0.876454,
     "end_time": "2021-04-29T08:13:45.852546",
     "exception": false,
     "start_time": "2021-04-29T08:13:44.976092",
     "status": "completed"
    },
    "tags": []
   },
   "outputs": [],
   "source": [
    "ImagePath('../input/animals10/raw-img/scoiattolo/OIP--9CxJkCleiNXywWpQhEUDAHaE7.jpeg')"
   ]
  },
  {
   "cell_type": "code",
   "execution_count": null,
   "id": "medieval-buddy",
   "metadata": {
    "papermill": {
     "duration": 0.052192,
     "end_time": "2021-04-29T08:13:45.956858",
     "exception": false,
     "start_time": "2021-04-29T08:13:45.904666",
     "status": "completed"
    },
    "tags": []
   },
   "outputs": [],
   "source": []
  }
 ],
 "metadata": {
  "kernelspec": {
   "display_name": "env",
   "language": "python",
   "name": "python3"
  },
  "language_info": {
   "codemirror_mode": {
    "name": "ipython",
    "version": 3
   },
   "file_extension": ".py",
   "mimetype": "text/x-python",
   "name": "python",
   "nbconvert_exporter": "python",
   "pygments_lexer": "ipython3",
   "version": "3.10.8"
  },
  "papermill": {
   "default_parameters": {},
   "duration": 74.843442,
   "end_time": "2021-04-29T08:13:47.323592",
   "environment_variables": {},
   "exception": null,
   "input_path": "__notebook__.ipynb",
   "output_path": "__notebook__.ipynb",
   "parameters": {},
   "start_time": "2021-04-29T08:12:32.480150",
   "version": "2.3.2"
  },
  "vscode": {
   "interpreter": {
    "hash": "1a80e3521d2d2aef108c12350690a1ca04688e10c892db6b511468d936e6917a"
   }
  }
 },
 "nbformat": 4,
 "nbformat_minor": 5
}
