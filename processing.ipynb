{
 "cells": [
  {
   "cell_type": "code",
   "execution_count": 5,
   "metadata": {},
   "outputs": [],
   "source": [
    "import numpy as np\n",
    "import pandas as pd\n",
    "import os\n",
    "import cv2\n",
    "import time\n",
    "import matplotlib.pyplot as plt\n",
    "\n",
    "import tensorflow as tf\n",
    "from tensorflow.keras.utils import to_categorical\n",
    "from tensorflow.keras.preprocessing.image import load_img, img_to_array"
   ]
  },
  {
   "cell_type": "code",
   "execution_count": 6,
   "metadata": {},
   "outputs": [],
   "source": [
    "weights_path = './model/yolov3.weights'\n",
    "configuration_path = './model/yolov3.cfg'\n",
    "labels = open('./model/coco.names').read().strip().split('\\n')\n",
    "probability_minimum = 0.5\n",
    "threshold = 0.3"
   ]
  },
  {
   "cell_type": "code",
   "execution_count": 7,
   "metadata": {},
   "outputs": [],
   "source": [
    "network = cv2.dnn.readNetFromDarknet(configuration_path, weights_path)\n",
    "layers_names_all = network.getLayerNames()\n",
    "layers_names_output = [layers_names_all[i-1] for i in network.getUnconnectedOutLayers()]"
   ]
  },
  {
   "cell_type": "code",
   "execution_count": 17,
   "metadata": {},
   "outputs": [],
   "source": [
    "def ImagePath(path):\n",
    "    \n",
    "    bounding_boxes = []\n",
    "    confidences = []\n",
    "    class_numbers = []\n",
    "    \n",
    "    image_input = cv2.imread(path)\n",
    "    blob = cv2.dnn.blobFromImage(image_input, 1/255.0, (416,416), swapRB=True, crop=False)\n",
    "    blob_to_show = blob[0,:,:,:].transpose(1,2,0)\n",
    "    network.setInput(blob)\n",
    "    output_from_network = network.forward(layers_names_output)\n",
    "    h,w = image_input.shape[:2]\n",
    "\n",
    "    for result in output_from_network:\n",
    "        for detection in result:\n",
    "            scores = detection[5:]\n",
    "            class_current = np.argmax(scores)\n",
    "            confidence_current = scores[class_current]\n",
    "            if confidence_current > probability_minimum:\n",
    "                box_current = detection[0:4] * np.array([w, h, w, h])\n",
    "                x_center, y_center, box_width, box_height = box_current.astype('int')\n",
    "                x_min = int(x_center-(box_width/2))\n",
    "                y_min = int(y_center-(box_height/2))\n",
    "                bounding_boxes.append([x_min, y_min, int(box_width), int(box_height)])\n",
    "                confidences.append(float(confidence_current))\n",
    "                class_numbers.append(class_current)\n",
    "\n",
    "    # %matplotlib inline\n",
    "    # plt.rcParams['figure.figsize'] = (5.0,5.0)\n",
    "    # plt.imshow(cv2.cvtColor(image_input, cv2.COLOR_BGR2RGB))\n",
    "    # plt.show()\n",
    "    \n",
    "    for item in sorted(set(class_numbers)):\n",
    "        OutputDec= labels[item]\n",
    "        \n",
    "    return OutputDec"
   ]
  },
  {
   "cell_type": "code",
   "execution_count": 18,
   "metadata": {},
   "outputs": [
    {
     "data": {
      "text/plain": [
       "'dog'"
      ]
     },
     "execution_count": 18,
     "metadata": {},
     "output_type": "execute_result"
    }
   ],
   "source": [
    "ImagePath(\"./dog.jpg\")"
   ]
  }
 ],
 "metadata": {
  "kernelspec": {
   "display_name": "env",
   "language": "python",
   "name": "python3"
  },
  "language_info": {
   "codemirror_mode": {
    "name": "ipython",
    "version": 3
   },
   "file_extension": ".py",
   "mimetype": "text/x-python",
   "name": "python",
   "nbconvert_exporter": "python",
   "pygments_lexer": "ipython3",
   "version": "3.10.8"
  },
  "orig_nbformat": 4,
  "vscode": {
   "interpreter": {
    "hash": "1a80e3521d2d2aef108c12350690a1ca04688e10c892db6b511468d936e6917a"
   }
  }
 },
 "nbformat": 4,
 "nbformat_minor": 2
}
